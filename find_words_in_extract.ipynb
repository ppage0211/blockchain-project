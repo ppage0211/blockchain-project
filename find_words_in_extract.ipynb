{
 "cells": [
  {
   "cell_type": "markdown",
   "id": "ceac6db2",
   "metadata": {},
   "source": [
    "# Regular expression doesn't work for html\n",
    "check https://stackoverflow.com/questions/590747/using-regular-expressions-to-parse-html-why-not"
   ]
  },
  {
   "cell_type": "markdown",
   "id": "e8d7bf7f",
   "metadata": {},
   "source": [
    "# Trying solely with beautiful soup"
   ]
  },
  {
   "cell_type": "code",
   "execution_count": 1,
   "id": "0500ee44",
   "metadata": {},
   "outputs": [],
   "source": [
    "from urllib.request import urlopen\n",
    "from bs4 import BeautifulSoup\n",
    "import re\n",
    "\n",
    "url = \"file:///Users/zhangyumeng/Desktop/GSFM/Keyword%20search%20results/748268_8-K_2020-10-05_0001554795-20-000254.html\"\n",
    "html = urlopen(url).read()\n",
    "soup = BeautifulSoup(html,\"html5lib\")"
   ]
  },
  {
   "cell_type": "code",
   "execution_count": 2,
   "id": "aa6ee1d4",
   "metadata": {},
   "outputs": [
    {
     "data": {
      "text/plain": [
       "'Red Cat Holdings Inc '"
      ]
     },
     "execution_count": 2,
     "metadata": {},
     "output_type": "execute_result"
    }
   ],
   "source": [
    "soup.br.next_sibling.replace('Company Name: ','')"
   ]
  },
  {
   "cell_type": "code",
   "execution_count": 3,
   "id": "e7401428",
   "metadata": {},
   "outputs": [
    {
     "name": "stdout",
     "output_type": "stream",
     "text": [
      "Found the word \"storage\" 1 times\n",
      "\n"
     ]
    }
   ],
   "source": [
    "searched_word ='storage'\n",
    "results = soup.body.find_all(string=re.compile('.*{0}.*'.format(searched_word)), recursive=True)\n",
    "print('Found the word \"{0}\" {1} times\\n'.format(searched_word, len(results)))"
   ]
  },
  {
   "cell_type": "code",
   "execution_count": 4,
   "id": "a749e056",
   "metadata": {},
   "outputs": [],
   "source": [
    "from urllib.request import urlopen\n",
    "from bs4 import BeautifulSoup\n",
    "import os\n",
    "import pandas as pd\n",
    "def process_html(path,searched_words):\n",
    "    html_files = os.listdir(path)\n",
    "    dict_for_words = {}\n",
    "    for word in searched_words:\n",
    "        lst = []\n",
    "        for file in html_files:\n",
    "            f = os.path.join(path, file)\n",
    "            url = 'file://' + f\n",
    "            html = urlopen(url).read()\n",
    "            soup = BeautifulSoup(html,\"html5lib\")\n",
    "            results = soup.body.find_all(string=re.compile('.*{0}.*'.format(word)))\n",
    "            if len(results) > 0:\n",
    "                lst.append(soup.br.next_sibling.replace('Company Name: ','')) \n",
    "        dict_for_words[word] = lst\n",
    "    return dict_for_words"
   ]
  },
  {
   "cell_type": "code",
   "execution_count": 5,
   "id": "ede577a4",
   "metadata": {},
   "outputs": [],
   "source": [
    "searched_words = ['storage','blockchain']\n",
    "path = '/Users/zhangyumeng/Desktop/GSFM/Keyword search results'"
   ]
  },
  {
   "cell_type": "code",
   "execution_count": 6,
   "id": "eb4d661d",
   "metadata": {},
   "outputs": [
    {
     "data": {
      "text/plain": [
       "{'storage': ['Red Cat Holdings Inc ', 'SOLLENSYS CORP '],\n",
       " 'blockchain': ['Riot Blockchain Inc ',\n",
       "  'ROCKETFUEL BLOCKCHAIN INC ',\n",
       "  'Long Blockchain Corp ',\n",
       "  'SOLLENSYS CORP ',\n",
       "  'Riot Blockchain Inc ',\n",
       "  'Favo Realty Inc',\n",
       "  'CFN Enterprises Inc ',\n",
       "  'Riot Blockchain Inc ',\n",
       "  'Crypto Co',\n",
       "  'Riot Blockchain Inc ',\n",
       "  'CLIC TECHNOLOGY INC ',\n",
       "  'Alpine 4 Technologies Ltd ',\n",
       "  'Riot Blockchain Inc ',\n",
       "  'Zoompass Holdings Inc ',\n",
       "  'Organic Agricultural Co Ltd',\n",
       "  'Riot Blockchain Inc ',\n",
       "  'Riot Blockchain Inc ',\n",
       "  'Blockchain of Things Inc ',\n",
       "  'Riot Blockchain Inc ',\n",
       "  'Alpine 4 Technologies Ltd ',\n",
       "  'Vortex Blockchain Technologies Inc ',\n",
       "  'OBITX Inc ',\n",
       "  'OBITX Inc ',\n",
       "  'IMAGEWARE SYSTEMS INC',\n",
       "  'BLACK CACTUS GLOBAL INC ',\n",
       "  'Riot Blockchain Inc ',\n",
       "  'Riot Blockchain Inc ',\n",
       "  'ROCKETFUEL BLOCKCHAIN INC ',\n",
       "  'ALTEROLA BIOTECH INC ',\n",
       "  'TMSR HOLDING Co Ltd',\n",
       "  'Tongji Healthcare Group Inc ',\n",
       "  'Alberton Acquisition Corp',\n",
       "  'Riot Blockchain Inc ',\n",
       "  'Red Cat Holdings Inc ',\n",
       "  'DropCar Inc ',\n",
       "  'Riot Blockchain Inc ',\n",
       "  'Crypto Co',\n",
       "  'Riot Blockchain Inc ',\n",
       "  'SOLLENSYS CORP ',\n",
       "  'Riot Blockchain Inc ',\n",
       "  'MusclePharm Corp',\n",
       "  'Riot Blockchain Inc ',\n",
       "  'Riot Blockchain Inc ',\n",
       "  'Alpine 4 Technologies Ltd ',\n",
       "  'Riot Blockchain Inc ',\n",
       "  'Riot Blockchain Inc ',\n",
       "  'Wayside Technology Group Inc ',\n",
       "  'VIVI HOLDINGS INC ',\n",
       "  'Tongji Healthcare Group Inc ',\n",
       "  'HotApp Blockchain Inc ',\n",
       "  'ROCKETFUEL BLOCKCHAIN INC ',\n",
       "  'TMSR HOLDING Co Ltd',\n",
       "  'Edge Data Solutions Inc ',\n",
       "  'BLACK CACTUS GLOBAL INC ',\n",
       "  'OVERSTOCK COM INC',\n",
       "  'Migom Global Corp ',\n",
       "  'ROCKETFUEL BLOCKCHAIN INC ',\n",
       "  'Long Blockchain Corp ',\n",
       "  'GreenBox POS',\n",
       "  'Grayscale Bitcoin Trust BTC ',\n",
       "  'Blockchain of Things Inc ',\n",
       "  'Riot Blockchain Inc ',\n",
       "  'CurrencyWorks Inc ']}"
      ]
     },
     "execution_count": 6,
     "metadata": {},
     "output_type": "execute_result"
    }
   ],
   "source": [
    " process_html(path,searched_words)"
   ]
  },
  {
   "cell_type": "code",
   "execution_count": null,
   "id": "6f1e9538",
   "metadata": {},
   "outputs": [],
   "source": []
  }
 ],
 "metadata": {
  "kernelspec": {
   "display_name": "Python 3 (ipykernel)",
   "language": "python",
   "name": "python3"
  },
  "language_info": {
   "codemirror_mode": {
    "name": "ipython",
    "version": 3
   },
   "file_extension": ".py",
   "mimetype": "text/x-python",
   "name": "python",
   "nbconvert_exporter": "python",
   "pygments_lexer": "ipython3",
   "version": "3.9.7"
  }
 },
 "nbformat": 4,
 "nbformat_minor": 5
}
